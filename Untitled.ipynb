{
 "cells": [
  {
   "cell_type": "code",
   "execution_count": 61,
   "metadata": {},
   "outputs": [],
   "source": [
    "# Import the AudioSegment class for processing audio and the \n",
    "# split_on_silence function for separating out silent chunks.\n",
    "from pydub import AudioSegment\n",
    "from pydub.silence import split_on_silence\n",
    "from pydub.utils import make_chunks\n",
    "import os"
   ]
  },
  {
   "cell_type": "code",
   "execution_count": 30,
   "metadata": {},
   "outputs": [],
   "source": [
    "#!conda install ffmpeg    #ensure to install this to use the functionalities of ffmpeg"
   ]
  },
  {
   "cell_type": "code",
   "execution_count": 31,
   "metadata": {},
   "outputs": [],
   "source": [
    "# Define a function to normalize a chunk to a target amplitude.\n",
    "def match_target_amplitude(aChunk, target_dBFS):\n",
    "    ''' Normalize given audio chunk '''\n",
    "    change_in_dBFS = target_dBFS - aChunk.dBFS\n",
    "    return aChunk.apply_gain(change_in_dBFS)"
   ]
  },
  {
   "cell_type": "code",
   "execution_count": 53,
   "metadata": {},
   "outputs": [],
   "source": [
    "file_name = './Mithali/20/2.mp3'\n",
    "\n",
    "# Load your audio.\n",
    "#song = AudioSegment.from_mp3(\"./Mithali/20/10.mp3\")\n",
    "\n",
    "\n",
    "song = AudioSegment.from_file(file_name, 'mp3')\n",
    "#left = song.split_to_mono()[0]  # This will help get a mono audio\n",
    "#print(left)\n",
    " "
   ]
  },
  {
   "cell_type": "code",
   "execution_count": 64,
   "metadata": {},
   "outputs": [
    {
     "data": {
      "text/html": [
       "\n",
       "                    <audio controls>\n",
       "                        <source src=\"data:audio/mpeg;base64,SUQzBAAAAAAAI1RTU0UAAAAPAAADTGF2ZjU4LjQ1LjEwMAAAAAAAAAAAAAAA//PAwAAAAAAAAAAAAEluZm8AAAAPAAAAAAAAAaEAAAAAAAAAAAAAAAAAAAAAAAAAAAAAAAAAAAAAAAAAAAAAAAAAAAAAAAAAAAAAAAAAAAAAAAAAAAAAAAAAAAAAAAAAAAAAAAAAAAAAAAAAAAAAAAAAAAAAAAAAAAAAAAAAAAAAAAAAAExhdmM1OC45MQAAAAAAAAAAAAAAAAAAAAAAAAAAAAGhAAAeBAAAAAAAAAAAAAAAAAAAAAAAAAAAAAAAAAAAAAAAAAAAAAAAAAAAAAAAAAAAAAAAAAAAAAAAAAAAAAAAAAAAAAAAAAAAAAAAAAAAAAAAAAAAAAAAAAAAAAAAAAAAAAAAAAAAAAAAAAAAAAAAAAAAAAAAAAAAAAAAAAAAAAAAAAAAAAAAAAAAAAAAAAAAAAAAAAAAAAAAAAAAAAAAAAAAAAAAAAAAAAAAAAAAAAAAAAAAAAAAAAAAAAAAAAAAAAAAAAAAAAAAAAAAAAAAAAAAAAAAAAAAAAAAAAAAAAAAAAAAAAAAAAAAAAAAAAAAAAAAAAAAAAAAAAAA\" type=\"audio/mpeg\"/>\n",
       "                        Your browser does not support the audio element.\n",
       "                    </audio>\n",
       "                  "
      ],
      "text/plain": [
       "<pydub.audio_segment.AudioSegment at 0x2495f7a1ca0>"
      ]
     },
     "execution_count": 64,
     "metadata": {},
     "output_type": "execute_result"
    }
   ],
   "source": [
    "myaudio = AudioSegment.from_file(file_name, \"mp3\")\n",
    "chunk_length_ms = 6000 # pydub calculates in millisec\n",
    "chunks = make_chunks(myaudio,chunk_length_ms) #Make chunks of 6 sec\n",
    "\n",
    "for i, chunk in enumerate(chunks):\n",
    "    chunk_name =  \"./chunks/chunk_{0}.wav\".format(i)\n",
    "    chunk.export(chunk_name, format=\"wav\")\n",
    "        \n",
    "myaudio"
   ]
  },
  {
   "cell_type": "code",
   "execution_count": 66,
   "metadata": {},
   "outputs": [],
   "source": [
    "chunks = split_on_silence(\n",
    "    sound,\n",
    "\n",
    "    # split on silences longer than 1000ms (1 sec)\n",
    "    min_silence_len=1000,\n",
    "\n",
    "    # anything under -16 dBFS is considered silence\n",
    "    silence_thresh=-16, \n",
    "\n",
    "    # keep 200 ms of leading/trailing silence\n",
    "    keep_silence=200\n",
    ")\n"
   ]
  },
  {
   "cell_type": "code",
   "execution_count": null,
   "metadata": {},
   "outputs": [],
   "source": [
    "\n",
    "# now recombine the chunks so that the parts are at least 4 sec long\n",
    "target_length = 4 * 1000\n",
    "output_chunks = [chunks[0]]\n",
    "for chunk in chunks[1:]:\n",
    "    if len(output_chunks[-1]) < target_length:\n",
    "        output_chunks[-1] += chunk\n",
    "    else:\n",
    "        # if the last output chunk is longer than the target length,\n",
    "        # we can start a new one\n",
    "        output_chunks.append(chunk)\n",
    "\n",
    "# now your have chunks that are bigger than 90 seconds (except, possibly the last one)"
   ]
  },
  {
   "cell_type": "code",
   "execution_count": 67,
   "metadata": {},
   "outputs": [
    {
     "data": {
      "text/plain": [
       "0"
      ]
     },
     "execution_count": 67,
     "metadata": {},
     "output_type": "execute_result"
    }
   ],
   "source": [
    "len(chunks)"
   ]
  },
  {
   "cell_type": "code",
   "execution_count": 59,
   "metadata": {},
   "outputs": [],
   "source": [
    "# Split track where the silence is 2 seconds or more and get chunks using \n",
    "# the imported function.\n",
    "chunks = split_on_silence (\n",
    "    # Use the loaded audio.\n",
    "    song, \n",
    "    # Specify that a silent chunk must be at least 2 seconds or 2000 ms long.\n",
    "    min_silence_len = 1000,\n",
    "    # Consider a chunk silent if it's quieter than -16 dBFS.\n",
    "    # (You may want to adjust this parameter.)\n",
    "    silence_thresh = -16\n",
    ")\n"
   ]
  },
  {
   "cell_type": "code",
   "execution_count": 60,
   "metadata": {},
   "outputs": [],
   "source": [
    "# Process each chunk with your parameters\n",
    "for i, chunk in enumerate(chunks):\n",
    "    # Create a silence chunk that's 0.5 seconds (or 500 ms) long for padding.\n",
    "    silence_chunk = AudioSegment.silent(duration=500)\n",
    "\n",
    "    # Add the padding chunk to beginning and end of the entire chunk.\n",
    "    audio_chunk = silence_chunk + chunk + silence_chunk\n",
    "\n",
    "    # Normalize the entire chunk.\n",
    "    normalized_chunk = match_target_amplitude(audio_chunk, -20.0)\n",
    "\n",
    "    # Export the audio chunk with new bitrate.\n",
    "    print(\"Exporting chunk{0}.wav\".format(i))\n",
    "    normalized_chunk.export(\n",
    "        \"./chunks/chunk{0}.wav\".format(i),\n",
    "        bitrate = \"128k\",\n",
    "        format = \"wav\"\n",
    "    )\n",
    "\n"
   ]
  },
  {
   "cell_type": "code",
   "execution_count": 48,
   "metadata": {},
   "outputs": [
    {
     "data": {
      "text/plain": [
       "'\\n\\ntarget_length = 25 * 1000 #setting minimum length of each chunk to 25 seconds\\noutput_chunks = [chunks[0]]\\nfor chunk in chunks[1:]:\\n    if len(output_chunks[-1]) < target_length:\\n        output_chunks[-1] += chunk\\n    else:\\n        # if the last output chunk is longer than the target length,\\n        # we can start a new one\\n        output_chunks.append(chunk)\\n'"
      ]
     },
     "execution_count": 48,
     "metadata": {},
     "output_type": "execute_result"
    }
   ],
   "source": [
    "\n",
    "'''\n",
    "\n",
    "target_length = 25 * 1000 #setting minimum length of each chunk to 25 seconds\n",
    "output_chunks = [chunks[0]]\n",
    "for chunk in chunks[1:]:\n",
    "    if len(output_chunks[-1]) < target_length:\n",
    "        output_chunks[-1] += chunk\n",
    "    else:\n",
    "        # if the last output chunk is longer than the target length,\n",
    "        # we can start a new one\n",
    "        output_chunks.append(chunk)\n",
    "'''"
   ]
  },
  {
   "cell_type": "code",
   "execution_count": null,
   "metadata": {},
   "outputs": [],
   "source": []
  }
 ],
 "metadata": {
  "kernelspec": {
   "display_name": "Python 3",
   "language": "python",
   "name": "python3"
  },
  "language_info": {
   "codemirror_mode": {
    "name": "ipython",
    "version": 3
   },
   "file_extension": ".py",
   "mimetype": "text/x-python",
   "name": "python",
   "nbconvert_exporter": "python",
   "pygments_lexer": "ipython3",
   "version": "3.8.3"
  }
 },
 "nbformat": 4,
 "nbformat_minor": 4
}
